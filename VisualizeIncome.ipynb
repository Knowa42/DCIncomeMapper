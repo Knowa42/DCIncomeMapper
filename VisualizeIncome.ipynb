{
 "cells": [
  {
   "cell_type": "code",
   "execution_count": 1,
   "metadata": {
    "collapsed": true
   },
   "outputs": [],
   "source": [
    "import dask.dataframe as dd\n",
    "import datashader as ds\n",
    "import datashader.transfer_functions as tf\n",
    "import pandas as pd"
   ]
  },
  {
   "cell_type": "code",
   "execution_count": null,
   "metadata": {
    "collapsed": false
   },
   "outputs": [],
   "source": [
    "# df = dd.read_csv(\"censusBlock_incomePoints.csv\", chunkbytes=50000)"
   ]
  },
  {
   "cell_type": "code",
   "execution_count": 2,
   "metadata": {
    "collapsed": true
   },
   "outputs": [],
   "source": [
    "df = pd.read_csv(\"censusBlock_incomePoints.csv\")"
   ]
  },
  {
   "cell_type": "code",
   "execution_count": null,
   "metadata": {
    "collapsed": false
   },
   "outputs": [],
   "source": [
    "# df = df.categorize(columns='income_category')"
   ]
  },
  {
   "cell_type": "code",
   "execution_count": 3,
   "metadata": {
    "collapsed": true
   },
   "outputs": [],
   "source": [
    "df['income_category'] = df['income_category'].astype('category')"
   ]
  },
  {
   "cell_type": "code",
   "execution_count": 66,
   "metadata": {
    "collapsed": false
   },
   "outputs": [],
   "source": [
    "District = ((-8584930.209173549 ,-8561514.465979757),(4693513.509909462, 4721033.881841333))\n",
    "USA =          ((-13884029,  -7453304), (2698291, 6455972))\n",
    "x_range,y_range = District\n",
    "\n",
    "plot_width  = int(1000)\n",
    "plot_height = int(plot_width*7.0/6)\n",
    "\n",
    "background = \"white\""
   ]
  },
  {
   "cell_type": "code",
   "execution_count": 67,
   "metadata": {
    "collapsed": false
   },
   "outputs": [
    {
     "data": {
      "text/html": [
       "<style>.container { width:100% !important; }</style>"
      ],
      "text/plain": [
       "<IPython.core.display.HTML object>"
      ]
     },
     "metadata": {},
     "output_type": "display_data"
    }
   ],
   "source": [
    "from functools import partial\n",
    "from datashader.utils import export_image\n",
    "from datashader.colors import colormap_select, Greys9, Hot, viridis, inferno\n",
    "from IPython.core.display import HTML, display\n",
    "\n",
    "export = partial(export_image, background = background)\n",
    "cm = partial(colormap_select, reverse=(background!=\"black\"))\n",
    "\n",
    "display(HTML(\"<style>.container { width:100% !important; }</style>\"))"
   ]
  },
  {
   "cell_type": "code",
   "execution_count": null,
   "metadata": {
    "collapsed": false
   },
   "outputs": [],
   "source": [
    "# cvs = ds.Canvas(plot_width, plot_height, *District)\n",
    "# agg = cvs.points(df, 'x', 'y')"
   ]
  },
  {
   "cell_type": "code",
   "execution_count": 68,
   "metadata": {
    "collapsed": true
   },
   "outputs": [],
   "source": [
    "if background == \"black\":\n",
    "      color_key = {'HD01_VD02':'aqua', 'HD01_VD03':'aqua','HD01_VD04':'aqua','HD01_VD05':'aqua',\n",
    "                   'HD01_VD06':'lime', 'HD01_VD07':'lime', 'HD01_VD08':'lime',  \n",
    "                   'HD01_VD09':'red', 'HD01_VD10':'red', 'HD01_VD11':'red', \n",
    "                   'HD01_VD12':'fuchsia', 'HD01_VD13':'fuchsia', 'HD01_VD14':'fuchsia', \n",
    "                   'HD01_VD15':'yellow', 'HD01_VD16':'yellow','HD01_VD17':'yellow' }\n",
    "else: color_key = {'HD01_VD02':'blue', 'HD01_VD03':'blue','HD01_VD04':'blue','HD01_VD05':'blue',\n",
    "                   'HD01_VD06':'green', 'HD01_VD07':'green', 'HD01_VD08':'green',  \n",
    "                   'HD01_VD09':'red', 'HD01_VD10':'red', 'HD01_VD11':'red', \n",
    "                   'HD01_VD12':'orange', 'HD01_VD13':'orange', 'HD01_VD14':'orange', \n",
    "                   'HD01_VD15':'saddlebrown', 'HD01_VD16':'saddlebrown','HD01_VD17':'saddlebrown' }"
   ]
  },
  {
   "cell_type": "code",
   "execution_count": 71,
   "metadata": {
    "collapsed": true
   },
   "outputs": [],
   "source": [
    "def create_image(x_range, y_range, w=plot_width, h=plot_height, how='cbrt', min_alpha=0):\n",
    "    cvs = ds.Canvas(plot_width=w, plot_height=h, x_range=x_range, y_range=y_range)\n",
    "    agg = cvs.points(df, 'x', 'y', ds.count_cat('income_category'))\n",
    "    img = tf.colorize(agg, color_key, how=how, min_alpha=min_alpha)\n",
    "    img = tf.spread(img,1,how=\"over\")\n",
    "    return img"
   ]
  },
  {
   "cell_type": "code",
   "execution_count": null,
   "metadata": {
    "collapsed": false
   },
   "outputs": [],
   "source": [
    "export(create_image(*District, how='log', min_alpha=100),\"Zoom 0 - District\")"
   ]
  },
  {
   "cell_type": "code",
   "execution_count": null,
   "metadata": {
    "collapsed": true
   },
   "outputs": [],
   "source": []
  }
 ],
 "metadata": {
  "anaconda-cloud": {},
  "kernelspec": {
   "display_name": "Python [Root]",
   "language": "python",
   "name": "Python [Root]"
  },
  "language_info": {
   "codemirror_mode": {
    "name": "ipython",
    "version": 3
   },
   "file_extension": ".py",
   "mimetype": "text/x-python",
   "name": "python",
   "nbconvert_exporter": "python",
   "pygments_lexer": "ipython3",
   "version": "3.5.1"
  }
 },
 "nbformat": 4,
 "nbformat_minor": 0
}
